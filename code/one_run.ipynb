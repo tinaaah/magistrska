{
 "cells": [
  {
   "cell_type": "code",
   "execution_count": 1,
   "metadata": {},
   "outputs": [],
   "source": [
    "import main\n",
    "import math\n",
    "import random\n",
    "import tikzplotlib\n",
    "import numpy as np\n",
    "import matplotlib.pyplot as plt\n",
    "\n",
    "from matplotlib import patches\n",
    "from scipy.spatial import distance\n",
    "from matplotlib.colors import ListedColormap, LinearSegmentedColormap"
   ]
  },
  {
   "attachments": {},
   "cell_type": "markdown",
   "metadata": {},
   "source": [
    "run with $\\Delta a = 0.1$"
   ]
  },
  {
   "cell_type": "code",
   "execution_count": null,
   "metadata": {},
   "outputs": [],
   "source": [
    "grid = [100, 100]\n",
    "width, height = grid\n",
    "m, N = 2, 128                   #  number of starting points and number of all points\n",
    "\n",
    "## Selects two random points on a grid\n",
    "initial = np.array( [[random.uniform(0,1)*width, random.uniform(0,1)*height] for i in range(m)] )\n",
    "## and g## and generate distribution with Mitchell algorithm\n",
    "dist = main.distribution(initial, grid, N)\n",
    "\n",
    "## change circles into ellipses\n",
    "a, b = 5, 2                     # bih and small semi-axis\n",
    "eps = math.sqrt(1 - (b/a)**2)   # eccentricity\n",
    "a_width, b_height = 2*a, 2*b    # values for matplotlib.pathces\n",
    "\n",
    "new_dist = main.ellipses(dist, a, b)\n",
    "\n",
    "## distance matrix between all the centres\n",
    "S = [x.center for x in new_dist.ell]\n",
    "distance_matrix = distance.cdist(S, S, dist.periodic_metric)"
   ]
  },
  {
   "cell_type": "code",
   "execution_count": null,
   "metadata": {},
   "outputs": [],
   "source": [
    "def draw_state(file_name, variable=\"energy\"):\n",
    "        ## let's have fun with colours --> map energy values to color palette\n",
    "    my_palette = LinearSegmentedColormap.from_list('custom red', [\"#577590\", \"#f94144\", \"#f8961e\"], N=256)\n",
    "    # my_palette = LinearSegmentedColormap.from_list('custom red', [\"#ffffff\", \"#ff0a54\"], N=256)\n",
    "\n",
    "    if variable == \"energy\": \n",
    "        ## heatmap of energy\n",
    "        minima = np.round(np.min(Energy), 2)\n",
    "        maxima = np.round(np.max(Energy), 2)\n",
    "    \n",
    "    elif variable == \"coord_number\":\n",
    "        ## heatmap of coordination number\n",
    "        minima = np.round(np.min(coord_number), 2)\n",
    "        maxima = np.round(np.max(coord_number), 2)\n",
    "    \n",
    "    norm = colors.Normalize(vmin=minima, vmax=maxima, clip=True)\n",
    "    mapper = cm.ScalarMappable(norm=norm, cmap=my_palette)\n",
    "\n",
    "    plt.figure(figsize=(8,8))\n",
    "\n",
    "    ## dimensions for patches\n",
    "    a_width, b_height = 2*new_dist.a, 2*new_dist.b\n",
    "\n",
    "    for center in new_dist.ell:\n",
    "        index = np.where(new_dist.ell == center)\n",
    "        \n",
    "        if variable == \"energy\":\n",
    "            v = Energy[-1,index]\n",
    "\n",
    "        elif variable == \"coord_number\":\n",
    "            v = coord_number[-1,index]\n",
    "\n",
    "        ellipse = main.ellipse.convert_to_patches(center, a_width, b_height)\n",
    "        plt.gca().add_patch(ellipse)\n",
    "        ellipse.set_facecolor(mapper.to_rgba(v)[0])\n",
    "        ellipse.set_label('_nolegend_')\n",
    "\n",
    "    cbar = np.round( np.linspace(minima, maxima, 5, endpoint=True), 2)\n",
    "    plt.colorbar(mapper, ticks=cbar, shrink=0.85, orientation='vertical')\n",
    "\n",
    "    plt.axis('scaled')\n",
    "    plt.xlim(0.0, width)\n",
    "    plt.ylim(0.0, height)\n",
    "    plt.savefig(file_name, bbox_inches='tight')"
   ]
  },
  {
   "cell_type": "code",
   "execution_count": null,
   "metadata": {},
   "outputs": [],
   "source": [
    "## let's do a run till we get stuck state\n",
    "i = 0\n",
    "delta_a = 0.1\n",
    "a_range = a + np.linspace(0,10,11)*delta_a\n",
    "\n",
    "for a in a_range:\n",
    "    b = a*math.sqrt(1-eps**2)\n",
    "    new_dist.a = a\n",
    "    new_dist.a = b\n",
    "\n",
    "    a_width, b_height = 2*a, 2*b\n",
    "\n",
    "    ## update a in matrices A\n",
    "    new_dist.fix_A\n",
    "\n",
    "    ## distance matrix between all the centres\n",
    "    S = [x.center for x in new_dist.ell]\n",
    "    distance_matrix = distance.cdist(S, S, dist.periodic_metric)\n",
    "    \n",
    "    ## matrix of indices of neighbouring ellipses, which are less than 2*a apart\n",
    "    in_proximity = [np.where((line<=2*new_dist.a) & (line!=0)) for line in distance_matrix]\n",
    "\n",
    "    ## find new state\n",
    "    Energy, coord_number, accepted, rejected = new_dist.metropolis(in_proximity, n=100)\n",
    "\n",
    "\n",
    "    output_name = \"proba/test\" + f\"{i:02d}.png\"\n",
    "    i += 1"
   ]
  }
 ],
 "metadata": {
  "kernelspec": {
   "display_name": ".venv",
   "language": "python",
   "name": "python3"
  },
  "language_info": {
   "codemirror_mode": {
    "name": "ipython",
    "version": 3
   },
   "file_extension": ".py",
   "mimetype": "text/x-python",
   "name": "python",
   "nbconvert_exporter": "python",
   "pygments_lexer": "ipython3",
   "version": "3.11.3"
  },
  "orig_nbformat": 4
 },
 "nbformat": 4,
 "nbformat_minor": 2
}
